{
 "cells": [
  {
   "cell_type": "code",
   "execution_count": 1,
   "metadata": {},
   "outputs": [],
   "source": [
    "import pandas as pd\n",
    "\n",
    "fetal_health = pd.read_csv('fetal_health.csv')\n",
    "\n",
    "fetal_health['histogram_tendency'] = fetal_health['histogram_tendency'].astype(str)\n",
    "fetal_health = pd.get_dummies(fetal_health)\n",
    "fetal_health.fetal_health = fetal_health.fetal_health.astype(int).astype(str) #make outcome categorical"
   ]
  },
  {
   "cell_type": "code",
   "execution_count": 2,
   "metadata": {},
   "outputs": [],
   "source": [
    "from sklearn.model_selection import train_test_split\n",
    "\n",
    "fetal_health, fetal_health_test = train_test_split(fetal_health, \n",
    "                                    test_size = .1) ## withold our test set\n"
   ]
  },
  {
   "cell_type": "code",
   "execution_count": 33,
   "metadata": {},
   "outputs": [],
   "source": [
    "import numpy as np\n",
    "from sklearn.utils import resample\n",
    "from sklearn.metrics import f1_score\n",
    "\n",
    "def accuracy_by_class(predicted, actual):\n",
    "    out_vector = []\n",
    "    out_vector.append(np.mean(predicted == actual))\n",
    "    for i in range(1, 4):\n",
    "        out_vector.append(np.mean(predicted[actual == str(i)] == str(i)))\n",
    "    out_vector.append(np.mean(out_vector[1:4]))\n",
    "    out_vector.append(f1_score(y_true = actual, y_pred = predicted, average = \"macro\"))\n",
    "    return(out_vector)\n",
    "    \n",
    "    \n",
    "    \n",
    "def rebalance_classes(input_df):\n",
    "    class_1 = input_df.loc[input_df.fetal_health == '1']\n",
    "    class_2 = input_df.loc[input_df.fetal_health == '2']\n",
    "    class_3 = input_df.loc[input_df.fetal_health == '3']\n",
    "    \n",
    "    class_2 = resample(class_2, n_samples = class_1.shape[0])\n",
    "    class_3 = resample(class_3, n_samples = class_1.shape[0])\n",
    "    \n",
    "    output_df = pd.concat([class_1, class_2, class_3], ignore_index = True)\n",
    "    return(output_df)\n",
    "\n",
    "\n",
    "\n",
    "\n"
   ]
  },
  {
   "cell_type": "code",
   "execution_count": 34,
   "metadata": {},
   "outputs": [],
   "source": [
    "from sklearn.ensemble import RandomForestClassifier\n",
    "fetal_health = rebalance_classes(fetal_health)\n",
    "RandomForest_100 = RandomForestClassifier(n_estimators = 100)\n",
    "\n",
    "rf_100_fit = RandomForest_100.fit(X = fetal_health.drop('fetal_health', axis = 1), y = fetal_health.fetal_health)\n",
    "rf_100_preds = rf_100_fit.predict(X= fetal_health_test.drop('fetal_health', axis = 1))\n",
    "\n"
   ]
  },
  {
   "cell_type": "code",
   "execution_count": 40,
   "metadata": {},
   "outputs": [],
   "source": [
    "## Process for KNN\n",
    "from sklearn.preprocessing import StandardScaler\n",
    "\n",
    "fetal_health_train = rebalance_classes(fetal_health)\n",
    "\n",
    "scale = StandardScaler()\n",
    "\n",
    "fetal_health_scaler = scale.fit(X = fetal_health.drop('fetal_health', axis = 1).to_numpy())\n",
    "\n",
    "fetal_health_x = fetal_health_scaler.transform(X = fetal_health_train.drop('fetal_health', axis = 1).to_numpy())\n",
    "\n",
    "fetal_health_test_x = fetal_health_scaler.transform(X = fetal_health_test.drop('fetal_health', axis = 1).to_numpy())\n",
    "\n"
   ]
  },
  {
   "cell_type": "code",
   "execution_count": 43,
   "metadata": {},
   "outputs": [],
   "source": [
    "## fit knn model\n",
    "\n",
    "from sklearn.neighbors import KNeighborsClassifier\n",
    "\n",
    "knn_50 = KNeighborsClassifier(n_neighbors= 50)\n",
    "\n",
    "knn_50_fit = knn_50.fit(X = fetal_health_x, y = fetal_health.fetal_health)\n",
    "\n",
    "knn_50_preds = knn_50_fit.predict(X = fetal_health_test_x)"
   ]
  },
  {
   "cell_type": "code",
   "execution_count": 44,
   "metadata": {},
   "outputs": [],
   "source": [
    "def print_metrics(final_accuracy):\n",
    "    print(\"Overall accuracy: {}\".format(final_accuracy[0]))\n",
    "    for i in range(1,4):\n",
    "        print(\"Accuracy for class {}: {}\".format(i, final_accuracy[i]))\n",
    "    \n",
    "    print(\"Weighted Accuracy: {}\".format(final_accuracy[4]))\n",
    "\n",
    "    print(\"Macro F1 score: {}\".format(final_accuracy[5]))"
   ]
  },
  {
   "cell_type": "code",
   "execution_count": 45,
   "metadata": {},
   "outputs": [
    {
     "name": "stdout",
     "output_type": "stream",
     "text": [
      "Overall accuracy: 0.8450704225352113\n",
      "Accuracy for class 1: 0.838150289017341\n",
      "Accuracy for class 2: 0.9523809523809523\n",
      "Accuracy for class 3: 0.7894736842105263\n",
      "Weighted Accuracy: 0.8600016418696065\n",
      "Macro F1 score: 0.7703373015873015\n"
     ]
    }
   ],
   "source": [
    "print_metrics(accuracy_by_class(knn_50_preds, fetal_health_test.fetal_health))"
   ]
  },
  {
   "cell_type": "code",
   "execution_count": 46,
   "metadata": {},
   "outputs": [
    {
     "name": "stdout",
     "output_type": "stream",
     "text": [
      "Overall accuracy: 0.9577464788732394\n",
      "Accuracy for class 1: 0.9826589595375722\n",
      "Accuracy for class 2: 0.8571428571428571\n",
      "Accuracy for class 3: 0.8421052631578947\n",
      "Weighted Accuracy: 0.8939690266127748\n",
      "Macro F1 score: 0.9095021702880564\n"
     ]
    }
   ],
   "source": [
    "print_metrics(accuracy_by_class(rf_100_preds, fetal_health_test.fetal_health))"
   ]
  },
  {
   "cell_type": "code",
   "execution_count": null,
   "metadata": {},
   "outputs": [],
   "source": []
  }
 ],
 "metadata": {
  "kernelspec": {
   "display_name": "Python 3",
   "language": "python",
   "name": "python3"
  },
  "language_info": {
   "codemirror_mode": {
    "name": "ipython",
    "version": 3
   },
   "file_extension": ".py",
   "mimetype": "text/x-python",
   "name": "python",
   "nbconvert_exporter": "python",
   "pygments_lexer": "ipython3",
   "version": "3.8.8"
  }
 },
 "nbformat": 4,
 "nbformat_minor": 4
}
