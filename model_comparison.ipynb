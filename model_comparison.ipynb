{
 "cells": [
  {
   "cell_type": "code",
   "execution_count": 1,
   "metadata": {},
   "outputs": [],
   "source": [
    "import pandas as pd\n",
    "\n",
    "fetal_health = pd.read_csv('fetal_health.csv')\n",
    "\n",
    "fetal_health['histogram_tendency'] = fetal_health['histogram_tendency'].astype(str)\n",
    "fetal_health = pd.get_dummies(fetal_health)\n",
    "fetal_health.fetal_health = fetal_health.fetal_health.astype(int).astype(str) #make outcome categorical"
   ]
  },
  {
   "cell_type": "code",
   "execution_count": 2,
   "metadata": {},
   "outputs": [],
   "source": [
    "from sklearn.model_selection import train_test_split\n",
    "\n",
    "fetal_health, fetal_health_test = train_test_split(fetal_health, \n",
    "                                    test_size = .1) ## withold our test set\n"
   ]
  },
  {
   "cell_type": "code",
   "execution_count": 3,
   "metadata": {},
   "outputs": [],
   "source": [
    "from utility_functions import * ## Import utility functions in the separate .py file"
   ]
  },
  {
   "cell_type": "code",
   "execution_count": 4,
   "metadata": {},
   "outputs": [],
   "source": [
    "from sklearn.ensemble import RandomForestClassifier\n",
    "fetal_health = rebalance_classes(fetal_health)\n",
    "RandomForest_100 = RandomForestClassifier(n_estimators = 100)\n",
    "\n",
    "rf_100_fit = RandomForest_100.fit(X = fetal_health.drop('fetal_health', axis = 1), y = fetal_health.fetal_health)\n",
    "rf_100_preds = rf_100_fit.predict(X= fetal_health_test.drop('fetal_health', axis = 1))\n",
    "\n"
   ]
  },
  {
   "cell_type": "code",
   "execution_count": 5,
   "metadata": {},
   "outputs": [],
   "source": [
    "## Process for KNN\n",
    "from sklearn.preprocessing import StandardScaler\n",
    "\n",
    "fetal_health_train = rebalance_classes(fetal_health)\n",
    "\n",
    "scale = StandardScaler()\n",
    "\n",
    "fetal_health_scaler = scale.fit(X = fetal_health.drop('fetal_health', axis = 1).to_numpy())\n",
    "\n",
    "fetal_health_x = fetal_health_scaler.transform(X = fetal_health_train.drop('fetal_health', axis = 1).to_numpy())\n",
    "\n",
    "fetal_health_test_x = fetal_health_scaler.transform(X = fetal_health_test.drop('fetal_health', axis = 1).to_numpy())\n",
    "\n"
   ]
  },
  {
   "cell_type": "code",
   "execution_count": 6,
   "metadata": {},
   "outputs": [],
   "source": [
    "## fit knn model\n",
    "\n",
    "from sklearn.neighbors import KNeighborsClassifier\n",
    "\n",
    "knn_50 = KNeighborsClassifier(n_neighbors= 50)\n",
    "\n",
    "knn_50_fit = knn_50.fit(X = fetal_health_x, y = fetal_health.fetal_health)\n",
    "\n",
    "knn_50_preds = knn_50_fit.predict(X = fetal_health_test_x)"
   ]
  },
  {
   "cell_type": "code",
   "execution_count": null,
   "metadata": {},
   "outputs": [],
   "source": []
  },
  {
   "cell_type": "code",
   "execution_count": 7,
   "metadata": {},
   "outputs": [
    {
     "name": "stdout",
     "output_type": "stream",
     "text": [
      "Overall accuracy: 0.8403755868544601\n",
      "Accuracy for class 1: 0.8481012658227848\n",
      "Accuracy for class 2: 0.8461538461538461\n",
      "Accuracy for class 3: 0.75\n",
      "Weighted Accuracy: 0.8147517039922102\n",
      "Macro F1 score: 0.7530836281647678\n",
      "\n"
     ]
    }
   ],
   "source": [
    "print(\"Accuracy for KNN\")\n",
    "print(print_metrics(accuracy_by_class(knn_50_preds, fetal_health_test.fetal_health)))"
   ]
  },
  {
   "cell_type": "code",
   "execution_count": 8,
   "metadata": {},
   "outputs": [
    {
     "name": "stdout",
     "output_type": "stream",
     "text": [
      "Overall accuracy: 0.9624413145539906\n",
      "Accuracy for class 1: 0.9810126582278481\n",
      "Accuracy for class 2: 0.8717948717948718\n",
      "Accuracy for class 3: 1.0\n",
      "Weighted Accuracy: 0.9509358433409066\n",
      "Macro F1 score: 0.9565265364669536\n",
      "\n"
     ]
    }
   ],
   "source": [
    "print(\"Accuracy for Random Forest\")\n",
    "print(print_metrics(accuracy_by_class(rf_100_preds, fetal_health_test.fetal_health)))"
   ]
  },
  {
   "cell_type": "code",
   "execution_count": null,
   "metadata": {},
   "outputs": [],
   "source": []
  },
  {
   "cell_type": "code",
   "execution_count": null,
   "metadata": {},
   "outputs": [],
   "source": []
  }
 ],
 "metadata": {
  "kernelspec": {
   "display_name": "Python 3",
   "language": "python",
   "name": "python3"
  },
  "language_info": {
   "codemirror_mode": {
    "name": "ipython",
    "version": 3
   },
   "file_extension": ".py",
   "mimetype": "text/x-python",
   "name": "python",
   "nbconvert_exporter": "python",
   "pygments_lexer": "ipython3",
   "version": "3.8.8"
  }
 },
 "nbformat": 4,
 "nbformat_minor": 4
}
